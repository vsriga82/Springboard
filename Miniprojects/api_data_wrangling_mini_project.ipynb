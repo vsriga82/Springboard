{
 "cells": [
  {
   "cell_type": "markdown",
   "metadata": {},
   "source": [
    "This exercise will require you to pull some data from the Qunadl API. Qaundl is currently the most widely used aggregator of financial market data."
   ]
  },
  {
   "cell_type": "markdown",
   "metadata": {},
   "source": [
    "As a first step, you will need to register a free account on the http://www.quandl.com website."
   ]
  },
  {
   "cell_type": "markdown",
   "metadata": {},
   "source": [
    "After you register, you will be provided with a unique API key, that you should store:"
   ]
  },
  {
   "cell_type": "code",
   "execution_count": 117,
   "metadata": {
    "collapsed": true
   },
   "outputs": [],
   "source": [
    "# Store the API key as a string - according to PEP8, constants are always named in all upper case\n",
    "API_KEY = 'xWzzi1RtHepGrBhAcfG7'"
   ]
  },
  {
   "cell_type": "markdown",
   "metadata": {},
   "source": [
    "Qaundl has a large number of data sources, but, unfortunately, most of them require a Premium subscription. Still, there are also a good number of free datasets."
   ]
  },
  {
   "cell_type": "markdown",
   "metadata": {},
   "source": [
    "For this mini project, we will focus on equities data from the Frankfurt Stock Exhange (FSE), which is available for free. We'll try and analyze the stock prices of a company called Carl Zeiss Meditec, which manufactures tools for eye examinations, as well as medical lasers for laser eye surgery: https://www.zeiss.com/meditec/int/home.html. The company is listed under the stock ticker AFX_X."
   ]
  },
  {
   "cell_type": "markdown",
   "metadata": {},
   "source": [
    "You can find the detailed Quandl API instructions here: https://docs.quandl.com/docs/time-series"
   ]
  },
  {
   "cell_type": "markdown",
   "metadata": {},
   "source": [
    "While there is a dedicated Python package for connecting to the Quandl API, we would prefer that you use the *requests* package, which can be easily downloaded using *pip* or *conda*. You can find the documentation for the package here: http://docs.python-requests.org/en/master/ "
   ]
  },
  {
   "cell_type": "markdown",
   "metadata": {},
   "source": [
    "Finally, apart from the *requests* package, you are encouraged to not use any third party Python packages, such as *pandas*, and instead focus on what's available in the Python Standard Library (the *collections* module might come in handy: https://pymotw.com/3/collections/).\n",
    "Also, since you won't have access to DataFrames, you are encouraged to us Python's native data structures - preferably dictionaries, though some questions can also be answered using lists.\n",
    "You can read more on these data structures here: https://docs.python.org/3/tutorial/datastructures.html"
   ]
  },
  {
   "cell_type": "markdown",
   "metadata": {},
   "source": [
    "Keep in mind that the JSON responses you will be getting from the API map almost one-to-one to Python's dictionaries. Unfortunately, they can be very nested, so make sure you read up on indexing dictionaries in the documentation provided above."
   ]
  },
  {
   "cell_type": "code",
   "execution_count": 114,
   "metadata": {
    "collapsed": true
   },
   "outputs": [],
   "source": [
    "# First, import the relevant modules\n",
    "\n",
    "import requests\n",
    "import json\n",
    "from statistics import median"
   ]
  },
  {
   "cell_type": "code",
   "execution_count": 5,
   "metadata": {
    "collapsed": true
   },
   "outputs": [],
   "source": [
    "# Now, call the Quandl API and pull out a small sample of the data (only one day) to get a glimpse\n",
    "# into the JSON structure that will be returned\n",
    "r = requests.get('https://www.quandl.com/api/v3/datasets/FSE/AFX_X?start_date=2019-07-17&end_date=2019-07-17&api_key=xWzzi1RtHepGrBhAcfG7')"
   ]
  },
  {
   "cell_type": "code",
   "execution_count": 6,
   "metadata": {},
   "outputs": [
    {
     "data": {
      "text/plain": [
       "{'dataset': {'collapse': None,\n",
       "  'column_index': None,\n",
       "  'column_names': ['Date',\n",
       "   'Open',\n",
       "   'High',\n",
       "   'Low',\n",
       "   'Close',\n",
       "   'Change',\n",
       "   'Traded Volume',\n",
       "   'Turnover',\n",
       "   'Last Price of the Day',\n",
       "   'Daily Traded Units',\n",
       "   'Daily Turnover'],\n",
       "  'data': [['2019-07-17',\n",
       "    95.3,\n",
       "    98.0,\n",
       "    94.6,\n",
       "    97.5,\n",
       "    None,\n",
       "    100512.0,\n",
       "    9764725.0,\n",
       "    None,\n",
       "    None,\n",
       "    None]],\n",
       "  'database_code': 'FSE',\n",
       "  'database_id': 6129,\n",
       "  'dataset_code': 'AFX_X',\n",
       "  'description': 'Stock Prices for Carl Zeiss Meditec (2019-07-03) from the Frankfurt Stock Exchange.<br><br>Trading System: Xetra<br><br>ISIN: DE0005313704',\n",
       "  'end_date': '2019-07-17',\n",
       "  'frequency': 'daily',\n",
       "  'id': 10095370,\n",
       "  'limit': None,\n",
       "  'name': 'Carl Zeiss Meditec (AFX_X)',\n",
       "  'newest_available_date': '2019-07-17',\n",
       "  'oldest_available_date': '2000-06-07',\n",
       "  'order': None,\n",
       "  'premium': False,\n",
       "  'refreshed_at': '2019-07-17T22:19:49.821Z',\n",
       "  'start_date': '2019-07-17',\n",
       "  'transform': None,\n",
       "  'type': 'Time Series'}}"
      ]
     },
     "execution_count": 6,
     "metadata": {},
     "output_type": "execute_result"
    }
   ],
   "source": [
    "# Inspect the JSON structure of the object you created, and take note of how nested it is,\n",
    "# as well as the overall structure\n",
    "r.json()"
   ]
  },
  {
   "cell_type": "markdown",
   "metadata": {},
   "source": [
    "These are your tasks for this mini project:\n",
    "\n",
    "1. Collect data from the Franfurt Stock Exchange, for the ticker AFX_X, for the whole year 2017 (keep in mind that the date format is YYYY-MM-DD).\n",
    "2. Convert the returned JSON object into a Python dictionary.\n",
    "3. Calculate what the highest and lowest opening prices were for the stock in this period.\n",
    "4. What was the largest change in any one day (based on High and Low price)?\n",
    "5. What was the largest change between any two days (based on Closing Price)?\n",
    "6. What was the average daily trading volume during this year?\n",
    "7. (Optional) What was the median trading volume during this year. (Note: you may need to implement your own function for calculating the median.)"
   ]
  },
  {
   "cell_type": "code",
   "execution_count": 224,
   "metadata": {},
   "outputs": [
    {
     "name": "stdout",
     "output_type": "stream",
     "text": [
      "The highest opening stock price was recorded on date 2017-12-14 with a price of 53.11 \n",
      "The lowest opening stock price was recorded on date 2017-01-24 with a price of 34.0 \n",
      "The largest change in price for 2017 based on high and low was recorded on 2017-05-11 with a price difference of 2.81\n",
      "The largest (positive) change for 2017 in closing price was recorded between 2017-05-11 and 2017-05-10 with a price difference of 1.72\n",
      "Average daily trading volume for 2017 is: 89124\n",
      "Median trading volume for 2017 is: 76286\n"
     ]
    }
   ],
   "source": [
    "def main():\n",
    "    url = 'https://www.quandl.com/api/v3/datasets/FSE/AFX_X?start_date=2017-01-01&end_date=2017-12-31&api_key=xWzzi1RtHepGrBhAcfG7'\n",
    "    resp = requests.get(url)\n",
    "    \n",
    "    if(resp.status_code == 200):\n",
    "        \n",
    "        resp_dict = json.loads(resp.content) \n",
    "        resp_columns = resp_dict['dataset']['column_names']\n",
    "        resp_data = resp_dict['dataset']['data']\n",
    "        cal_high_low_open_price()\n",
    "        high_low_pric_chg()\n",
    "        clo_pric_chg()\n",
    "        avg_trad_vol()\n",
    "        med_trad_vol()\n",
    "\n",
    "\n",
    "\n",
    "main()"
   ]
  },
  {
   "cell_type": "code",
   "execution_count": 208,
   "metadata": {},
   "outputs": [],
   "source": [
    "#Calculate what the highest and lowest opening prices were for the stock in this period.\n",
    "def cal_high_low_open_price():\n",
    "    open_prices = []\n",
    "    for i in range(len(resp_data)):\n",
    "        if resp_data[i][1] is not None:\n",
    "            open_prices.append((resp_data[i][0],resp_data[i][1]))\n",
    "    \n",
    "    open_prices_sorted = sorted(open_prices,key=lambda open_prices: open_prices[1])\n",
    "    \n",
    "    print(\"The highest opening stock price for 2017 was recorded on date {} with a price of {} \".format(open_prices_sorted[-1][0],open_prices_sorted[-1][1]))\n",
    "    print(\"The lowest opening stock price for 2017 was recorded on date {} with a price of {} \".format(open_prices_sorted[0][0],open_prices_sorted[0][1]))    "
   ]
  },
  {
   "cell_type": "code",
   "execution_count": 222,
   "metadata": {},
   "outputs": [],
   "source": [
    "#What was the largest change in any one day (based on High and Low price)?\n",
    "def high_low_pric_chg():\n",
    "    price_diff = []\n",
    "    for i in range(len(resp_data)):\n",
    "        if (resp_data[i][2] is not None) and (resp_data[i][3] is not None) :\n",
    "            price_diff.append((resp_data[i][0],round(resp_data[i][2] - resp_data[i][3],2)))\n",
    "    \n",
    "    price_diff_sorted = sorted(price_diff,key=lambda price_diff: price_diff[1])\n",
    "    print(\"The largest change in price for 2017 based on high and low was recorded on {} with a price difference of {}\".\n",
    "          format(price_diff_sorted[-1][0],price_diff_sorted[-1][1]))"
   ]
  },
  {
   "cell_type": "code",
   "execution_count": 223,
   "metadata": {
    "collapsed": true
   },
   "outputs": [],
   "source": [
    "#What was the largest change between any two days (based on Closing Price)?\n",
    "def clo_pric_chg():\n",
    "    close_prc_diff = []\n",
    "    for i in range(len(resp_data)):\n",
    "        if i+1 != len(resp_data):\n",
    "            if resp_data[i][1] is not None:\n",
    "                close_prc_diff.append((resp_data[i][0],resp_data[i+1][0],resp_data[i][4],resp_data[i+1][4],round(resp_data[i][4] - resp_data[i+1][4],2)))\n",
    "    \n",
    "    close_prc_diff_sorted = sorted(close_prc_diff,key=lambda close_prc_diff: close_prc_diff[4])\n",
    "    print(\"The largest (positive) change for 2017 in closing price was recorded between {} and {} with a price difference of {}\".\n",
    "          format(close_prc_diff_sorted[-1][0],close_prc_diff_sorted[-1][1],close_prc_diff_sorted[-1][4]))"
   ]
  },
  {
   "cell_type": "code",
   "execution_count": 211,
   "metadata": {},
   "outputs": [],
   "source": [
    "#What was the average daily trading volume during this year?\n",
    "def avg_trad_vol():\n",
    "    trade_vol = 0\n",
    "    trade_vol_lst = []\n",
    "    for i in range(len(resp_data)):\n",
    "        if resp_data[i][6] is not None:\n",
    "            trade_vol_lst.append(resp_data[i][6])\n",
    "            trade_vol += resp_data[i][6]\n",
    "    avg_trade_vol = trade_vol / len(resp_data)\n",
    "    print(\"Average daily trading volume for 2017 is:\",round(avg_trade_vol))"
   ]
  },
  {
   "cell_type": "code",
   "execution_count": 212,
   "metadata": {},
   "outputs": [],
   "source": [
    "#What was the median trading volume during this year.\n",
    "def med_trad_vol():\n",
    "    print(\"Median trading volume for 2017 is:\",round(median(trade_vol_lst)))\n"
   ]
  },
  {
   "cell_type": "code",
   "execution_count": null,
   "metadata": {
    "collapsed": true
   },
   "outputs": [],
   "source": []
  }
 ],
 "metadata": {
  "kernelspec": {
   "display_name": "Python 3",
   "language": "python",
   "name": "python3"
  },
  "language_info": {
   "codemirror_mode": {
    "name": "ipython",
    "version": 3
   },
   "file_extension": ".py",
   "mimetype": "text/x-python",
   "name": "python",
   "nbconvert_exporter": "python",
   "pygments_lexer": "ipython3",
   "version": "3.6.2"
  }
 },
 "nbformat": 4,
 "nbformat_minor": 2
}
